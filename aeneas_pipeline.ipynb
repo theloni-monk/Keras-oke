{
 "cells": [
  {
   "cell_type": "code",
   "execution_count": null,
   "metadata": {},
   "outputs": [],
   "source": []
  },
  {
   "cell_type": "code",
   "execution_count": null,
   "metadata": {},
   "outputs": [],
   "source": [
    "!python -m spleeter separate -p spleeter:2stems -o spleeter-output AllAlongTheWatchtower.mp3"
   ]
  },
  {
   "cell_type": "code",
   "execution_count": 5,
   "metadata": {},
   "outputs": [
    {
     "data": {
      "text/plain": [
       "0"
      ]
     },
     "execution_count": 5,
     "metadata": {},
     "output_type": "execute_result"
    }
   ],
   "source": [
    "from aeneas.tools.execute_task import ExecuteTaskCLI\n",
    "\n",
    "test_audio_path = u\"/mnt/c/Users/TheoA/Documents/Github/Keras-oke/Aeneas/Anaconda/vocals.wav\"\n",
    "test_transcript_path = u\"/mnt/c/Users/TheoA/Documents/Github/Keras-oke/Aeneas/Anaconda/AnacondaLyrics.txt\"\n",
    "\n",
    "ExecuteTaskCLI(use_sys=False).run(arguments=[\n",
    "    None, # dummy program name argument\n",
    "    test_audio_path,\n",
    "    test_transcript_path,\n",
    "    u\"task_language=eng|is_text_type=plain|os_task_file_format=json\",\n",
    "    u\"/mnt/c/Users/TheoA/Documents/Github/Keras-oke/Aeneas/Anaconda/AnacondaLyrics.json\"\n",
    "])\n"
   ]
  }
 ],
 "metadata": {
  "kernelspec": {
   "display_name": "karaoke",
   "language": "python",
   "name": "python3"
  },
  "language_info": {
   "codemirror_mode": {
    "name": "ipython",
    "version": 3
   },
   "file_extension": ".py",
   "mimetype": "text/x-python",
   "name": "python",
   "nbconvert_exporter": "python",
   "pygments_lexer": "ipython3",
   "version": "3.9.15"
  },
  "orig_nbformat": 4,
  "vscode": {
   "interpreter": {
    "hash": "4330875a4b24f5b092495a7aadab550c8e7c754a85aaa372c7a6a062e6b853ae"
   }
  }
 },
 "nbformat": 4,
 "nbformat_minor": 2
}
