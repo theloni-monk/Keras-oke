{
 "cells": [
  {
   "cell_type": "code",
   "execution_count": 1,
   "metadata": {},
   "outputs": [
    {
     "ename": "ModuleNotFoundError",
     "evalue": "No module named 'youtube_dl'",
     "output_type": "error",
     "traceback": [
      "\u001b[1;31m---------------------------------------------------------------------------\u001b[0m",
      "\u001b[1;31mModuleNotFoundError\u001b[0m                       Traceback (most recent call last)",
      "Cell \u001b[1;32mIn [1], line 1\u001b[0m\n\u001b[1;32m----> 1\u001b[0m \u001b[39mimport\u001b[39;00m \u001b[39myoutube_dl\u001b[39;00m\n\u001b[0;32m      2\u001b[0m \u001b[39mdef\u001b[39;00m \u001b[39mdownload_ytvid_as_mp3\u001b[39m(video_url):\n\u001b[0;32m      3\u001b[0m     video_info \u001b[39m=\u001b[39m youtube_dl\u001b[39m.\u001b[39mYoutubeDL()\u001b[39m.\u001b[39mextract_info(url \u001b[39m=\u001b[39m video_url,download\u001b[39m=\u001b[39m\u001b[39mFalse\u001b[39;00m)\n",
      "\u001b[1;31mModuleNotFoundError\u001b[0m: No module named 'youtube_dl'"
     ]
    }
   ],
   "source": [
    "import youtube_dl\n",
    "def download_ytvid_as_mp3(video_url):\n",
    "    video_info = youtube_dl.YoutubeDL().extract_info(url = video_url,download=False)\n",
    "    filename = f\"{video_info['title']}.mp3\"\n",
    "    options={\n",
    "        'format':'bestaudio/best',\n",
    "        'keepvideo':False,\n",
    "        'outtmpl':filename,\n",
    "    }\n",
    "    with youtube_dl.YoutubeDL(options) as ydl:\n",
    "        ydl.download([video_info['webpage_url']])\n",
    "    print(\"Download complete... {}\".format(filename))"
   ]
  },
  {
   "cell_type": "code",
   "execution_count": 2,
   "metadata": {},
   "outputs": [
    {
     "name": "stdout",
     "output_type": "stream",
     "text": [
      "[youtube] HJNa9Ih3haA: Downloading webpage\n",
      "[youtube] HJNa9Ih3haA: Downloading player 21149d65\n",
      "[youtube] HJNa9Ih3haA: Downloading webpage\n",
      "[download] Destination: Money Trees.mp3\n",
      "[download] 100% of 6.20MiB in 01:3975KiB/s ETA 00:00\n",
      "Download complete... Money Trees.mp3\n"
     ]
    }
   ],
   "source": [
    "download_ytvid_as_mp3(\"https://www.youtube.com/watch?v=fd0uuy4mDrE\")"
   ]
  }
 ],
 "metadata": {
  "kernelspec": {
   "display_name": "base",
   "language": "python",
   "name": "python3"
  },
  "language_info": {
   "codemirror_mode": {
    "name": "ipython",
    "version": 3
   },
   "file_extension": ".py",
   "mimetype": "text/x-python",
   "name": "python",
   "nbconvert_exporter": "python",
   "pygments_lexer": "ipython3",
   "version": "3.8.15"
  },
  "orig_nbformat": 4,
  "vscode": {
   "interpreter": {
    "hash": "9900fb86eb791649ee39f16951d1899f87b8e9c1a9f120c98b0fd5c3876333d7"
   }
  }
 },
 "nbformat": 4,
 "nbformat_minor": 2
}
