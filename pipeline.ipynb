{
 "cells": [
  {
   "cell_type": "code",
   "execution_count": 10,
   "metadata": {},
   "outputs": [
    {
     "name": "stdout",
     "output_type": "stream",
     "text": [
      "Python 3.8.15\n"
     ]
    }
   ],
   "source": [
    "!python --version"
   ]
  },
  {
   "cell_type": "code",
   "execution_count": 11,
   "metadata": {},
   "outputs": [
    {
     "name": "stderr",
     "output_type": "stream",
     "text": [
      "C:\\Users\\TheoA\\Anaconda3\\python.exe: No module named spleeter\n"
     ]
    }
   ],
   "source": [
    "!python -m spleeter separate -p spleeter:2stems -o spleeter-output BabyGotBack.mp3"
   ]
  },
  {
   "cell_type": "code",
   "execution_count": 1,
   "metadata": {},
   "outputs": [],
   "source": [
    "import whisper\n",
    "\n",
    "model = whisper.load_model(\"base\")"
   ]
  },
  {
   "cell_type": "code",
   "execution_count": 2,
   "metadata": {},
   "outputs": [],
   "source": [
    "result = whisper.transcribe(model, \"spleeter-output/BabyGotBack/vocals.wav\")"
   ]
  },
  {
   "cell_type": "code",
   "execution_count": 3,
   "metadata": {},
   "outputs": [
    {
     "name": "stdout",
     "output_type": "stream",
     "text": [
      "[(0.0, 7.54, ' Oh my god Becky look at her butt. It is so big. She looks like one of those'), (7.54, 13.700000000000001, \" rap guys girlfriend's who understands those rap guys. They only talk to her\"), (13.700000000000001, 21.740000000000002, \" because she looks like a total pro. Okay I mean her butt just felt big. I can't\"), (21.74, 30.82, \" believe it's the round out there. I mean, bro, look. She's about, wow. I like big\"), (30.82, 36.16, ' butts and a cat. You other brothers and not. I want to go to a school with anybody'), (36.16, 40.459999999999994, \" who's in a round thing in your face. You get sprung. You want to pull up? You\"), (40.459999999999994, 44.739999999999995, \" notice that? Stop. Even a genius. She's wearing. I'm hoping I can't\"), (44.74, 52.300000000000004, \" get a job. I want to get a job. And your big job. I hope what you want me. That's what you've got.\"), (52.300000000000004, 56.260000000000005, \" Make me so funny. Oh, run for a smooth skin. You're saying you want to get my\"), (56.260000000000005, 62.22, \" hands. That's what you use me. Use me because you like that average groupie. I see that.\"), (62.22, 66.76, \" That's it. That's it. That's it. That's it. That's it. That's it. That's it. You gotta go\"), (66.76, 72.62, \" on like a turbo vet. I'm tired of magazines. Send back what's all the thing. That's the average\"), (72.62, 78.04, ' hook man and asking her. You gotta pack much back so fell a bell. Words that girls'), (78.04, 83.44, ' bring donut, but not shakin. Shakin. Shakin. Shakin. Shakin. That healthy butt. Baby got'), (83.44, 89.9, ' sent back baby back. Legas. Maybe the weight.'), (89.9, 90.74000000000001, \" That's right.\"), (90.74000000000001, 74.08, ' Legas have my thighs but my shoulders? Legas. Are late.'), (74.08, 99.0, ' Legas have my legs. Is it okay if the babies were gonna fall back?'), (99.0, 105.76, \" I can round and be and when I'm throwing a gig I just can't have myself on that like I animal now here's my scandal\"), (105.76, 108.56, ' I want to get your home and double up'), (109.56, 115.7, \" I ain't talking about playboy the silicone parts I made for toys. I want them real quick and juicy\"), (115.7, 118.76, ' So I find that juicy double makes a lot of things trouble'), (118.76, 121.94, \" I'm gonna be so that's what I'm looking at rock videos\"), (122.34, 125.64, ' Not me being both walking like hells you gonna have them been'), (125.64, 130.3, \" I'll keep my women like flow Joe. I worry to the thick soul sisters. I want to get quick\"), (130.3, 133.86, \" I'm gonna cut saw here. Yeah, but I gotta be straight when I say I want to\"), (134.02, 137.1, ' Till the break up on you gotta going on'), (144.54, 148.28, \" And I'm down to get the friction on so ladies ladies\"), (148.28, 154.4, ' You want to roll mama say it is around sick it out even white boys got the shout baby got'), (160.88, 162.88, ' Baby'), (164.4, 166.4, ' When it comes to female'), (166.88, 169.32, \" Half-mo ain't got nothing to do about selects\"), (170.68, 172.68, ' 3625 36'), (172.68, 177.54000000000002, \" I'm losing five three so you go for rose\"), (181.52, 183.52, ' My'), (183.52, 187.32, \" And I don't want none unless you got buns on\"), (187.8, 191.04000000000002, \" You side bins or sit ups, but please don't lose that butt\"), (191.32, 194.16, ' Some brother want to pull you in a hard roll and tell you that the'), (194.16, 202.12, ' Go and leave it when I pull up quick to retrieve it so Carmel says your fat line down with that'), (202.44, 208.16, \" Cuz your waist is small in your curves on kicking and I'm thinking my sticking to the beanpool games in the magazines\"), (208.32, 209.92, \" You ain't it miss thing?\"), (209.92, 211.92, ' Give me a set stop and resist stop'), (211.92, 213.92, \" Red beans and rice didn't miss her\"), (213.92, 215.92, \" I'm not gonna try to this\"), (215.92, 221.07999999999998, \" Girls are homeless yet game, but it's hit up and I pull up quick to get with them\"), (221.08, 224.72, ' So ladies and boys around and you want to pull it so down'), (225.72, 229.12, ' 1900 mix a lot and kick them nasty thoughts baby got'), (229.12, 237.12, ' Baby'), (244.12, 246.12, ' Mullen melbury got much back'), (246.12, 267.54, \" You Aren't Gotta優esis\")]\n"
     ]
    }
   ],
   "source": [
    "transcript_estimate = [(seg['start'], seg['end'], seg['text']) for seg in result['segments']]\n",
    "print(transcript_estimate)"
   ]
  },
  {
   "cell_type": "code",
   "execution_count": 13,
   "metadata": {},
   "outputs": [],
   "source": [
    "true_lyrics_bgb = \"\"\"Oh, my, God Becky, look at her butt\n",
    "It is so big, she looks like\n",
    "One of those rap guys' girlfriends.\n",
    "But, ya know, who understands those rap guys?\n",
    "They only talk to her, because,\n",
    "She looks like a total prostitute, 'kay?\n",
    "I mean, her butt, is just so big\n",
    "I can't believe it's just so round, it's like out there\n",
    "I mean gross, look\n",
    "She's just so, black\n",
    "\n",
    "I like big butts and I can not lie\n",
    "You other brothers can't deny\n",
    "That when a girl walks in with an itty bitty waist\n",
    "And a round thing in your face\n",
    "You get sprung, want to pull up tough\n",
    "'Cause you notice that butt was stuffed\n",
    "Deep in the jeans she's wearing\n",
    "I'm hooked and I can't stop staring\n",
    "Oh baby, I want to get wit'cha\n",
    "And take your picture\n",
    "My homeboys tried to warn me\n",
    "But with that butt you got makes (me so horny)\n",
    "Ooh, Rump-o'-smooth-skin\n",
    "You say you want to get in my Benz?\n",
    "Well, use me, use me\n",
    "'Cause you ain't that average groupie\n",
    "I've seen her dancin'\n",
    "To hell with romancin'\n",
    "She's sweat, wet,\n",
    "Got it goin' like a turbo 'Vette\n",
    "I'm tired of magazines\n",
    "Sayin' flat butts are the thing\n",
    "Take the average black man and ask him that\n",
    "She gotta pack much back\n",
    "So, fellas (yeah) Fellas (yeah)\n",
    "Has your girlfriend got the butt? (hell yeah)\n",
    "Tell 'em to shake it (shake it) shake it (shake it)\n",
    "Shake that healthy butt\n",
    "Baby got back (L.A. fits with the Oakland booty)\n",
    "\n",
    "Baby got back (L.A. fits with the Oakland booty)\n",
    "\n",
    "I like 'em round, and big\n",
    "And when I'm throwin' a gig\n",
    "I just can't help myself, I'm actin' like an animal\n",
    "Now here's my scandal\n",
    "I want to get you home\n",
    "And ugh, double-up, ugh, ugh\n",
    "I ain't talkin' bout Playboy\n",
    "'Cause silicone parts are made for toys\n",
    "I want 'em real thick and juicy\n",
    "So find that juicy double\n",
    "Mix-a-Lot's in trouble\n",
    "Beggin' for a piece of that bubble\n",
    "So I'm lookin' at rock videos\n",
    "Knock-kneed bimbos walkin' like hoes\n",
    "You can have them bimbos\n",
    "I'll keep my women like Flo Jo\n",
    "A word to the thick soul sistas, I want to get with ya\n",
    "I won't cuss or hit ya\n",
    "But I gotta be straight when I say I want to f*ck\n",
    "Til the break of dawn\n",
    "Baby got it goin' on\n",
    "A lot of simps won't like this song\n",
    "'Cause them punks like to hit it and quit it\n",
    "And I'd rather stay and play\n",
    "'Cause I'm long, and I'm strong\n",
    "And I'm down to get the friction on\n",
    "So, ladies (Yeah) Ladies (Yeah)\n",
    "If you want to role in my Mercedes (Yeah)\n",
    "Then turn around, stick it out\n",
    "Even white boys got to shout\n",
    "Baby got back\n",
    "\n",
    "Baby got back\n",
    "Yeah, baby, when it comes to females\n",
    "Cosmo ain't got nothin'\n",
    "To do with my selection\n",
    "Thirty six-twenty- four-thirty six\n",
    "Ha ha, only if she's 5'3\n",
    "\n",
    "So your girlfriend rolls a Honda, playin' workout tapes by Fonda\n",
    "But Fonda ain't got a motor in the back of her Honda\n",
    "My anaconda don't want none\n",
    "Unless you've got buns, hon\n",
    "You can do side bends or sit-ups\n",
    "But please don't lose that butt\n",
    "Some brothers want to play that hard role\n",
    "And tell you that the butt ain't gol'\n",
    "So they toss it and leave it\n",
    "And I pull up quick to retrieve it\n",
    "So Cosmo says you're fat\n",
    "Well I ain't down with that\n",
    "'Cause your waist is small and your curves are kickin'\n",
    "And I'm thinkin' bout stickin'\n",
    "To the beanpole dames in the magazines\n",
    "You ain't it, Miss Thing\n",
    "Give me a sista, I can't resist her\n",
    "Red beans and rice didn't miss her\n",
    "Some knucklehead tried to dis\n",
    "'Cause his girls are on my list\n",
    "He had game but he chose to hit 'em\n",
    "And I pull up quick to get wit 'em\n",
    "So ladies, if the butt is round,\n",
    "And you want a triple X throw down,\n",
    "Dial 1-900-MIXALOT\n",
    "And kick them nasty thoughts\n",
    "Baby got back\n",
    "\n",
    "Baby got back\n",
    "\"\"\"\n",
    "\n",
    "true_lyrics_anaconda = \"\"\"My anaconda don't, my anaconda don't\n",
    "My anaconda don't want none unless you got buns, hun\n",
    "\n",
    "Boy toy named Troy used to live in Detroit\n",
    "Bi-big dope dealer money, he was gettin' some coins\n",
    "Was in shootouts with the law, but he live in a palace\n",
    "Bo-bought me Alexander McQueen, he was keeping me stylish\n",
    "Now that's real, real, real\n",
    "Gun in my purse, bitch, I came dressed to kill\n",
    "Who wanna go first? I had them pushing daffodils\n",
    "I'm high as hell, I only took a half a pill\n",
    "I'm on some dumb shit\n",
    "\n",
    "By the way, what he say?\n",
    "He can tell I ain't missing no meals\n",
    "Come through and fuck him in my automobile\n",
    "Let him eat it with his grills and he tellin' me to chill\n",
    "And he telling me it's real, that he love my sex appeal\n",
    "Say he don't like 'em boney, he want something he can grab\n",
    "So I pulled up in the Jag, and I hit him with the jab like\n",
    "Dun-d-d-dun-dun-d-d-dun-dun\n",
    "\n",
    "My anaconda don't, my anaconda don't\n",
    "My anaconda don't want none unless you got buns, hun\n",
    "\n",
    "Oh my gosh, look at her butt\n",
    "Oh my gosh, look at her butt\n",
    "Oh-Oh-Oh-Oh my gosh, look at her butt\n",
    "Look at her butt, look at, look at, look at, look at her butt\n",
    "\n",
    "Thi-this dude named Michael used to ride motorcycles\n",
    "Di-dick bigger than a tower, I ain't talking about Eiffel's\n",
    "Real country-ass nigga, let me play with his rifle\n",
    "Pussy put his ass to sleep, now he calling me NyQuil\n",
    "Now that bang, bang, bang\n",
    "I let him hit it 'cause he slang cocaine\n",
    "He toss my salad like his name Romaine\n",
    "And when we done, I make him buy me Balmain\n",
    "I'm on some dumb shit\n",
    "\n",
    "By the way, what he say?\n",
    "He can tell I ain't missing no meals\n",
    "Come through and fuck him in my automobile\n",
    "Let him eat it with his grills, and he telling me to chill\n",
    "And he telling me it's real, that he love my sex appeal\n",
    "He say he don't like 'em boney, he want something he can grab\n",
    "So I pulled up in the Jag, Mayweather with the jab like\n",
    "Dun-d-d-dun-dun-d-d-dun-dun\n",
    "\n",
    "My anaconda don't, my anaconda don't\n",
    "My anaconda don't want none unless you got buns, hun\n",
    "\n",
    "Oh my gosh, look at her butt\n",
    "Oh my gosh, look at her butt (I-ohhaha)\n",
    "Oh-Oh-Oh-Oh my gosh, look at her butt\n",
    "Look at her butt, look at, look at, look at, look at her butt\n",
    "\n",
    "Little in the middle but she got much back\n",
    "Little in the middle but she got much back\n",
    "Little in the middle but she got much back\n",
    "Oh my God, look at her butt\n",
    "\n",
    "My anaconda don't, my anaconda don't\n",
    "My anaconda don't want none unless you got buns, hun\n",
    "D-D-D-Don't, my anaconda don't\n",
    "D-D-Don't want none unless you got buns, hun\n",
    "\n",
    "Oh my gosh, look at her butt\n",
    "(Little in the middle but she got much back)\n",
    "Oh my gosh, look at her butt\n",
    "(Little in the middle but she got much back)\n",
    "Oh-Oh-Oh-Oh my gosh, look at her butt\n",
    "(Little in the middle but she got much back)\n",
    "Look at her butt, look at, look at, look at, look at her butt\n",
    "\n",
    "Yeah, he love this fat ass, hahahahahahahaha!\n",
    "Yeah, this one is for my bitches with a fat ass in the fucking club\n",
    "I said, where my fat ass big bitches in the club?\n",
    "Fuck those skinny bitches, fuck those skinny bitches in the club\n",
    "I wanna see all the big fat-ass bitches in the motherfuckin' club\n",
    "Fuck you if you skinny, bitches, what? C'Yeah\n",
    "Hahahaha, rrrrrrr\n",
    "C'Yeah, I got a big fat ass, c'yeah, come on! \"\"\"\n"
   ]
  },
  {
   "attachments": {},
   "cell_type": "markdown",
   "metadata": {},
   "source": [
    "## TODO: implement a fuzzy text search where we align the transcribed segments to the true lyrics\n",
    "## TODO: implement full pipeline into single module"
   ]
  },
  {
   "cell_type": "code",
   "execution_count": 21,
   "metadata": {},
   "outputs": [],
   "source": [
    "import chars2vec\n",
    "c2v_model = chars2vec.load_model('eng_50')"
   ]
  },
  {
   "cell_type": "code",
   "execution_count": 27,
   "metadata": {},
   "outputs": [
    {
     "name": "stdout",
     "output_type": "stream",
     "text": [
      "['Oh', 'my', 'god', 'Becky', 'look', 'at', 'her', 'butt', 'It', 'is', 'so', 'big', 'She', 'looks', 'like', 'one', 'of', 'those']\n"
     ]
    }
   ],
   "source": [
    "import re\n",
    "\n",
    "lyrics = true_lyrics_bgb.strip(\"(),\")\n",
    "lyrics = re.split(' |\\n|, ', lyrics)\n",
    "lyrics_embedding = c2v_model.vectorize_words(lyrics) # sequence of vectors of dimension 50\n",
    "\n",
    "\n",
    "# now that we have the embedding for a segment, we can correlate(flipped convolve) it \n",
    "# over the embedding for the lyrics to produce a likelihood for the matched location of the lyric"
   ]
  },
  {
   "cell_type": "code",
   "execution_count": 35,
   "metadata": {},
   "outputs": [
    {
     "name": "stdout",
     "output_type": "stream",
     "text": [
      "['because', 'she', 'looks', 'like', 'a', 'total', 'pro', 'Okay', 'I', 'mean', 'her', 'butt', 'just', 'felt', 'big', 'I', 'cant']\n",
      "['because,', 'She', 'looks', 'like', 'a', 'total', 'prostitute', \"'kay?\", 'I', 'mean', 'her', 'butt', 'is', 'just', 'so', 'big', 'I']\n"
     ]
    },
    {
     "data": {
      "image/png": "[encoded data removed]",
      "text/plain": [
       "<Figure size 640x480 with 1 Axes>"
      ]
     },
     "metadata": {},
     "output_type": "display_data"
    }
   ],
   "source": [
    "import numpy as np\n",
    "import matplotlib.pyplot as plt\n",
    "\n",
    "test_seg_words = transcript_estimate[2][2].strip()\n",
    "test_seg_words = ''.join([i for i in test_seg_words if i.isalpha() or i == ' ']).split(' ')\n",
    "print(test_seg_words)\n",
    "\n",
    "seg_embedding = c2v_model.vectorize_words(test_seg_words) # sequence of vectors of dimension 50\n",
    "\n",
    "#todo do this efficiently via fft correlation computation\n",
    "correlation = []\n",
    "for i in range(len(lyrics) - len(test_seg_words)):\n",
    "    embedding_distance = np.linalg.norm(lyrics_embedding[i:i+len(test_seg_words)] - seg_embedding)\n",
    "    correlation.append(embedding_distance)\n",
    "\n",
    "correlation = [max(correlation) - i for i in correlation]\n",
    "correlation = np.array(correlation)\n",
    "\n",
    "target_location = np.argmax(correlation)\n",
    "print(lyrics[target_location:target_location+len(test_seg_words)])\n",
    "\n",
    "\n",
    "plt.plot(correlation)\n",
    "plt.show()"
   ]
  }
 ],
 "metadata": {
  "kernelspec": {
   "display_name": "karaoke",
   "language": "python",
   "name": "python3"
  },
  "language_info": {
   "codemirror_mode": {
    "name": "ipython",
    "version": 3
   },
   "file_extension": ".py",
   "mimetype": "text/x-python",
   "name": "python",
   "nbconvert_exporter": "python",
   "pygments_lexer": "ipython3",
   "version": "3.9.15"
  },
  "orig_nbformat": 4,
  "vscode": {
   "interpreter": {
    "hash": "8b450cb86cfd5959546ccec542814b1b747a819d6eee90d315384aecd3782c13"
   }
  }
 },
 "nbformat": 4,
 "nbformat_minor": 2
}
