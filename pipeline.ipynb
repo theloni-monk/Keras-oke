{
 "cells": [
  {
   "cell_type": "code",
   "execution_count": 10,
   "metadata": {},
   "outputs": [
    {
     "name": "stdout",
     "output_type": "stream",
     "text": [
      "Python 3.8.15\n"
     ]
    }
   ],
   "source": [
    "!python --version"
   ]
  },
  {
   "cell_type": "code",
   "execution_count": 11,
   "metadata": {},
   "outputs": [
    {
     "name": "stderr",
     "output_type": "stream",
     "text": [
      "C:\\Users\\TheoA\\Anaconda3\\python.exe: No module named spleeter\n"
     ]
    }
   ],
   "source": [
    "!python -m spleeter separate -p spleeter:2stems -o spleeter-output BabyGotBack.mp3"
   ]
  },
  {
   "cell_type": "code",
   "execution_count": 12,
   "metadata": {},
   "outputs": [
    {
     "name": "stdout",
     "output_type": "stream",
     "text": [
      "Oh my god Becky look at her butt. It is so big. She looks like one of those rap guys girlfriend's who understands those rap guys. They only talk to her because she looks like a total pro. Okay I mean her butt just felt big. I can't believe it's so brown out there.\n"
     ]
    }
   ],
   "source": [
    "import whisper\n",
    "\n",
    "model = whisper.load_model(\"base\")\n",
    "\n",
    "# load audio and pad/trim it to fit 30 seconds\n",
    "audio = whisper.load_audio(\"spleeter-output/BabyGotBack/vocals.wav\")\n",
    "audio = whisper.pad_or_trim(audio)\n",
    "\n",
    "# make log-Mel spectrogram and move to the same device as the model\n",
    "mel = whisper.log_mel_spectrogram(audio).to(model.device)\n",
    "\n",
    "# decode the audio\n",
    "options = whisper.DecodingOptions()\n",
    "result = whisper.decode(model, mel, options)\n",
    "\n",
    "# print the recognized text\n",
    "print(result.text)"
   ]
  },
  {
   "cell_type": "code",
   "execution_count": 17,
   "metadata": {},
   "outputs": [
    {
     "name": "stdout",
     "output_type": "stream",
     "text": [
      "Detecting language using up to the first 30 seconds. Use `--language` to specify the language\n",
      "Detected language: English\n",
      "[00:00.000 --> 00:07.540]  Oh my god Becky look at her butt. It is so big. She looks like one of those\n",
      "[00:07.540 --> 00:13.700]  rap guys girlfriend's who understands those rap guys. They only talk to her\n",
      "[00:13.700 --> 00:21.740]  because she looks like a total pro. Okay I mean her butt just felt big. I can't\n",
      "[00:21.740 --> 00:30.820]  believe it's the round out there. I mean, bro, look. She's about, wow. I like big\n",
      "[00:30.820 --> 00:36.160]  butts and a cat. You other brothers and not. I want to go to a school with anybody\n",
      "[00:36.160 --> 00:40.460]  who's in a round thing in your face. You get sprung. You want to pull up? You\n",
      "[00:40.460 --> 00:44.740]  notice that? Stop. Even a genius. She's wearing. I'm hoping I can't\n",
      "[00:44.740 --> 00:52.300]  get a job. I want to get a job. And your big job. I hope what you want me. That's what you've got.\n",
      "[00:52.300 --> 00:56.260]  Make me so funny. Oh, run for a smooth skin. You're saying you want to get my\n",
      "[00:56.260 --> 01:02.220]  hands. That's what you use me. Use me because you like that average groupie. I see that.\n",
      "[01:02.220 --> 01:06.760]  That's it. That's it. That's it. That's it. That's it. That's it. That's it. You gotta go\n",
      "[01:06.760 --> 01:12.620]  on like a turbo vet. I'm tired of magazines. Send back what's all the thing. That's the average\n",
      "[01:12.620 --> 01:17.780]  bookman in asking you. You got to pack much back. So fella. She fell off. Yeah.\n",
      "[01:17.780 --> 01:22.420]  She's a girlfriend. What? What? Oh, man. Shake it. Shake it. Shake it. Shake it. Shake that healthy.\n",
      "[01:22.420 --> 01:25.660]  But baby got bad light. Open. Yeah.\n",
      "[01:29.900 --> 01:31.420]  Baby.\n",
      "[01:31.420 --> 01:37.740]  Mom. Hope.\n",
      "[01:41.740 --> 01:42.740] ?\n",
      "[01:43.540 --> 01:45.100]  I like him.\n",
      "[01:46.100 --> 01:46.620]  Well,\n",
      "[01:47.780 --> 01:49.140]  I like him.\n",
      "[01:52.900 --> 01:55.580]  I'm off to go on.\n",
      "[01:55.580 --> 01:58.580]  So find that you see double mix a lot of things trouble\n",
      "[01:58.580 --> 02:01.780]  And more piece of that bubble so I'm looking at rock videos\n",
      "[02:02.340 --> 02:05.660]  Not me been both walking like hells you gonna have them been\n",
      "[02:05.660 --> 02:10.300]  I'll keep my women like flow Joe. I worry to the thick soul sisters. I want to get quit\n",
      "[02:10.300 --> 02:13.860]  Yeah, I'm gonna cut saw it here. Yeah, but I gotta be straight when I say I want to\n",
      "[02:14.060 --> 02:16.060]  Till the break up\n",
      "[02:16.060 --> 02:18.060]  Going on\n",
      "[02:18.060 --> 02:20.060]  This song\n",
      "[02:20.060 --> 02:27.060]  Quit it and I'd rather stay play all the long and I'm strong and I'm down to get the friction on so ladies\n",
      "[02:27.860 --> 02:29.860]  Ladies\n",
      "[02:29.860 --> 02:30.860]  Sadie\n",
      "[02:30.860 --> 02:34.360]  Turn around stick it out even white boys got the shout baby got\n",
      "[02:40.700 --> 02:42.700]  Baby\n",
      "[02:42.700 --> 02:44.700]  Yeah, baby\n",
      "[02:44.700 --> 02:51.700]  I'm gonna come to email half mowing got nothing to do with my selects 36\n",
      "[02:51.700 --> 02:53.700]  24 36\n",
      "[02:53.700 --> 02:55.700]  I'll use these five three\n",
      "[02:55.700 --> 02:59.900]  So you go for roles I had them work out my find\n",
      "[02:59.900 --> 03:02.100]  I'm gonna hang out a motor and I'm gonna\n",
      "[03:02.100 --> 03:07.340]  My Anna kind that don't want none unless you got buns on\n",
      "[03:07.340 --> 03:11.060]  You side bins or sit ups, but please don't lose that butt\n",
      "[03:11.060 --> 03:14.860]  Some brother want to pull you in a hard roll and tell you that the goal\n",
      "[03:14.860 --> 03:20.420]  So they toss it and leave it when I pull up quick to retrieve it so Carmel says your fat\n",
      "[03:20.420 --> 03:22.420]  Why I'm down with that?\n",
      "[03:22.420 --> 03:28.140]  Can you waste it small in your curves on kicking and I'm thinking my sticking to the beanpool games in the magazines\n",
      "[03:28.140 --> 03:33.700]  You ain't it miss thing? Give me a set stop and resist stop red beans and rice didn't miss her\n",
      "[03:33.700 --> 03:38.180]  I'm not gonna try to miss this girl's a whole lot less yet game\n",
      "[03:38.180 --> 03:42.860]  But it's hit up and I pull up quick to get with them so ladies and boys around\n",
      "[03:42.860 --> 03:44.860]  You want a couple of slow down?\n",
      "[03:44.860 --> 03:49.140]  I won 900 mix a lot and kick them nasty thoughts baby got\n",
      "[03:49.140 --> 03:57.140]  Baby\n",
      "[03:57.140 --> 03:59.140]  Yeah\n",
      "[03:59.140 --> 04:13.180]  Who על rwa\n"
     ]
    }
   ],
   "source": [
    "result = whisper.transcribe(model, \"spleeter-output/BabyGotBack/vocals.wav\", verbose=True)"
   ]
  },
  {
   "cell_type": "code",
   "execution_count": 22,
   "metadata": {},
   "outputs": [
    {
     "name": "stdout",
     "output_type": "stream",
     "text": [
      "[(0.0, 7.54, ' Oh my god Becky look at her butt. It is so big. She looks like one of those'), (7.54, 13.700000000000001, \" rap guys girlfriend's who understands those rap guys. They only talk to her\"), (13.700000000000001, 21.740000000000002, \" because she looks like a total pro. Okay I mean her butt just felt big. I can't\"), (21.74, 30.82, \" believe it's the round out there. I mean, bro, look. She's about, wow. I like big\"), (30.82, 36.16, ' butts and a cat. You other brothers and not. I want to go to a school with anybody'), (36.16, 40.459999999999994, \" who's in a round thing in your face. You get sprung. You want to pull up? You\"), (40.459999999999994, 44.739999999999995, \" notice that? Stop. Even a genius. She's wearing. I'm hoping I can't\"), (44.74, 52.300000000000004, \" get a job. I want to get a job. And your big job. I hope what you want me. That's what you've got.\"), (52.300000000000004, 56.260000000000005, \" Make me so funny. Oh, run for a smooth skin. You're saying you want to get my\"), (56.260000000000005, 62.22, \" hands. That's what you use me. Use me because you like that average groupie. I see that.\"), (62.22, 66.76, \" That's it. That's it. That's it. That's it. That's it. That's it. That's it. You gotta go\"), (66.76, 72.62, \" on like a turbo vet. I'm tired of magazines. Send back what's all the thing. That's the average\"), (72.62, 77.78, ' bookman in asking you. You got to pack much back. So fella. She fell off. Yeah.'), (77.78, 82.42, \" She's a girlfriend. What? What? Oh, man. Shake it. Shake it. Shake it. Shake it. Shake that healthy.\"), (82.42, 85.66000000000001, ' But baby got bad light. Open. Yeah.'), (89.9, 91.42, ' Baby.'), (91.42, 97.74000000000001, ' Mom. Hope.'), (101.74000000000001, 102.74000000000001, '?'), (103.54, 105.1, ' I like him.'), (106.1, 106.62, ' Well,'), (107.78, 109.14, ' I like him.'), (112.9, 115.58, \" I'm off to go on.\"), (115.58, 118.58, ' So find that you see double mix a lot of things trouble'), (118.58, 121.78, \" And more piece of that bubble so I'm looking at rock videos\"), (122.34, 125.66, ' Not me been both walking like hells you gonna have them been'), (125.66, 130.3, \" I'll keep my women like flow Joe. I worry to the thick soul sisters. I want to get quit\"), (130.3, 133.86, \" Yeah, I'm gonna cut saw it here. Yeah, but I gotta be straight when I say I want to\"), (134.06, 136.06, ' Till the break up'), (136.06, 138.06, ' Going on'), (138.06, 140.06, ' This song'), (140.06, 147.06, \" Quit it and I'd rather stay play all the long and I'm strong and I'm down to get the friction on so ladies\"), (147.86, 149.86, ' Ladies'), (149.86, 150.86, ' Sadie'), (150.86, 154.36, ' Turn around stick it out even white boys got the shout baby got'), (160.7, 162.7, ' Baby'), (162.7, 164.7, ' Yeah, baby'), (164.7, 171.7, \" I'm gonna come to email half mowing got nothing to do with my selects 36\"), (171.7, 173.7, ' 24 36'), (173.7, 175.7, \" I'll use these five three\"), (175.7, 179.89999999999998, ' So you go for roles I had them work out my find'), (179.89999999999998, 182.1, \" I'm gonna hang out a motor and I'm gonna\"), (182.1, 187.33999999999997, \" My Anna kind that don't want none unless you got buns on\"), (187.33999999999997, 191.06, \" You side bins or sit ups, but please don't lose that butt\"), (191.06, 194.86, ' Some brother want to pull you in a hard roll and tell you that the goal'), (194.86, 200.42000000000002, ' So they toss it and leave it when I pull up quick to retrieve it so Carmel says your fat'), (200.42000000000002, 202.42000000000002, \" Why I'm down with that?\"), (202.42000000000002, 208.14000000000001, \" Can you waste it small in your curves on kicking and I'm thinking my sticking to the beanpool games in the magazines\"), (208.14000000000001, 213.7, \" You ain't it miss thing? Give me a set stop and resist stop red beans and rice didn't miss her\"), (213.7, 218.18, \" I'm not gonna try to miss this girl's a whole lot less yet game\"), (218.18, 222.86, \" But it's hit up and I pull up quick to get with them so ladies and boys around\"), (222.86, 224.86, ' You want a couple of slow down?'), (224.86, 229.14000000000001, ' I won 900 mix a lot and kick them nasty thoughts baby got'), (229.14000000000001, 237.14000000000001, ' Baby'), (237.14000000000001, 239.14000000000001, ' Yeah'), (239.14, 253.17999999999998, ' Who על rwa')]\n"
     ]
    }
   ],
   "source": [
    "transcript_estimate = [(seg['start'], seg['end'], seg['text']) for seg in result['segments']]\n",
    "print(transcript_estimate)"
   ]
  },
  {
   "cell_type": "code",
   "execution_count": null,
   "metadata": {},
   "outputs": [],
   "source": [
    "true_lyrics = \"\"\"Oh, my, God Becky, look at her butt\n",
    "It is so big, she looks like\n",
    "One of those rap guys' girlfriends.\n",
    "But, ya know, who understands those rap guys?\n",
    "They only talk to her, because,\n",
    "She looks like a total prostitute, 'kay?\n",
    "I mean, her butt, is just so big\n",
    "I can't believe it's just so round, it's like out there\n",
    "I mean gross, look\n",
    "She's just so, black\n",
    "\n",
    "I like big butts and I can not lie\n",
    "You other brothers can't deny\n",
    "That when a girl walks in with an itty bitty waist\n",
    "And a round thing in your face\n",
    "You get sprung, want to pull up tough\n",
    "'Cause you notice that butt was stuffed\n",
    "Deep in the jeans she's wearing\n",
    "I'm hooked and I can't stop staring\n",
    "Oh baby, I want to get wit'cha\n",
    "And take your picture\n",
    "My homeboys tried to warn me\n",
    "But with that butt you got makes (me so horny)\n",
    "Ooh, Rump-o'-smooth-skin\n",
    "You say you want to get in my Benz?\n",
    "Well, use me, use me\n",
    "'Cause you ain't that average groupie\n",
    "I've seen her dancin'\n",
    "To hell with romancin'\n",
    "She's sweat, wet,\n",
    "Got it goin' like a turbo 'Vette\n",
    "I'm tired of magazines\n",
    "Sayin' flat butts are the thing\n",
    "Take the average black man and ask him that\n",
    "She gotta pack much back\n",
    "So, fellas (yeah) Fellas (yeah)\n",
    "Has your girlfriend got the butt? (hell yeah)\n",
    "Tell 'em to shake it (shake it) shake it (shake it)\n",
    "Shake that healthy butt\n",
    "Baby got back (L.A. fits with the Oakland booty)\n",
    "\n",
    "Baby got back (L.A. fits with the Oakland booty)\n",
    "\n",
    "I like 'em round, and big\n",
    "And when I'm throwin' a gig\n",
    "I just can't help myself, I'm actin' like an animal\n",
    "Now here's my scandal\n",
    "I want to get you home\n",
    "And ugh, double-up, ugh, ugh\n",
    "I ain't talkin' bout Playboy\n",
    "'Cause silicone parts are made for toys\n",
    "I want 'em real thick and juicy\n",
    "So find that juicy double\n",
    "Mix-a-Lot's in trouble\n",
    "Beggin' for a piece of that bubble\n",
    "So I'm lookin' at rock videos\n",
    "Knock-kneed bimbos walkin' like hoes\n",
    "You can have them bimbos\n",
    "I'll keep my women like Flo Jo\n",
    "A word to the thick soul sistas, I want to get with ya\n",
    "I won't cuss or hit ya\n",
    "But I gotta be straight when I say I want to f*ck\n",
    "Til the break of dawn\n",
    "Baby got it goin' on\n",
    "A lot of simps won't like this song\n",
    "'Cause them punks like to hit it and quit it\n",
    "And I'd rather stay and play\n",
    "'Cause I'm long, and I'm strong\n",
    "And I'm down to get the friction on\n",
    "So, ladies (Yeah) Ladies (Yeah)\n",
    "If you want to role in my Mercedes (Yeah)\n",
    "Then turn around, stick it out\n",
    "Even white boys got to shout\n",
    "Baby got back\n",
    "\n",
    "Baby got back\n",
    "Yeah, baby, when it comes to females\n",
    "Cosmo ain't got nothin'\n",
    "To do with my selection\n",
    "Thirty six-twenty- four-thirty six\n",
    "Ha ha, only if she's 5'3\n",
    "\n",
    "So your girlfriend rolls a Honda, playin' workout tapes by Fonda\n",
    "But Fonda ain't got a motor in the back of her Honda\n",
    "My anaconda don't want none\n",
    "Unless you've got buns, hon\n",
    "You can do side bends or sit-ups\n",
    "But please don't lose that butt\n",
    "Some brothers want to play that hard role\n",
    "And tell you that the butt ain't gol'\n",
    "So they toss it and leave it\n",
    "And I pull up quick to retrieve it\n",
    "So Cosmo says you're fat\n",
    "Well I ain't down with that\n",
    "'Cause your waist is small and your curves are kickin'\n",
    "And I'm thinkin' bout stickin'\n",
    "To the beanpole dames in the magazines\n",
    "You ain't it, Miss Thing\n",
    "Give me a sista, I can't resist her\n",
    "Red beans and rice didn't miss her\n",
    "Some knucklehead tried to dis\n",
    "'Cause his girls are on my list\n",
    "He had game but he chose to hit 'em\n",
    "And I pull up quick to get wit 'em\n",
    "So ladies, if the butt is round,\n",
    "And you want a triple X throw down,\n",
    "Dial 1-900-MIXALOT\n",
    "And kick them nasty thoughts\n",
    "Baby got back\n",
    "\n",
    "Baby got back\n",
    "\"\"\"\n"
   ]
  },
  {
   "attachments": {},
   "cell_type": "markdown",
   "metadata": {},
   "source": [
    "## TODO: implement a fuzzy text search where we align the transcribed segments to the true lyrics\n",
    "## TODO: implement full pipeline into single module"
   ]
  }
 ],
 "metadata": {
  "kernelspec": {
   "display_name": "karaoke-kernel",
   "language": "python",
   "name": "karaoke-kernel"
  },
  "orig_nbformat": 4,
  "vscode": {
   "interpreter": {
    "hash": "8b450cb86cfd5959546ccec542814b1b747a819d6eee90d315384aecd3782c13"
   }
  }
 },
 "nbformat": 4,
 "nbformat_minor": 2
}
